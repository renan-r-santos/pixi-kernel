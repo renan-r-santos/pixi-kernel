{
 "cells": [
  {
   "cell_type": "markdown",
   "metadata": {},
   "source": [
    "# This is an example notebook that demonstrates using the Pixi Kernel\n",
    "\n",
    "When asked to select a kernel, select \"Pixi Kernel\".\n"
   ]
  },
  {
   "cell_type": "code",
   "execution_count": null,
   "metadata": {},
   "outputs": [],
   "source": [
    "# This adds the numpy package to your current environment\n",
    "# Check your `pixi.toml` file to see the changes\n",
    "!pixi add numpy"
   ]
  },
  {
   "cell_type": "code",
   "execution_count": null,
   "metadata": {},
   "outputs": [],
   "source": [
    "import numpy as np\n",
    "\n",
    "# You can see that it is using the numpy package from the default Pixi environment\n",
    "np.__file__"
   ]
  }
 ],
 "metadata": {
  "language_info": {
   "name": "python"
  }
 },
 "nbformat": 4,
 "nbformat_minor": 2
}
